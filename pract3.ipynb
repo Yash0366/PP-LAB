{
 "cells": [
  {
   "cell_type": "markdown",
   "metadata": {},
   "source": [
    "### Practical No 3 Yash Kadam 65"
   ]
  },
  {
   "cell_type": "code",
   "execution_count": null,
   "metadata": {},
   "outputs": [],
   "source": [
    "if __name__ == '__main__':\n",
    "    with open ('parth.txt', 'r') as file:\n",
    "        lines = file.readlines ()\n",
    "        numberOfLines = len (lines)\n",
    "        numberOfWords = sum (len (line.split()) for line in lines)\n",
    "        numberOfCharacters = sum(len(line) for line in lines);\n",
    "        \n",
    "    print(f\"Lines: {numberOfLines}\")\n",
    "    print(f\"Words: {numberOfWords}\")\n",
    "    print(f\"Characters: {numberOfCharacters}\")"
   ]
  }
 ],
 "metadata": {
  "kernelspec": {
   "display_name": "Python 3",
   "language": "python",
   "name": "python3"
  },
  "language_info": {
   "name": "python",
   "version": "3.12.0"
  }
 },
 "nbformat": 4,
 "nbformat_minor": 2
}

{
 "cells": [
  {
   "cell_type": "markdown",
   "metadata": {},
   "source": [
    "### Pratical No 2 Yash Kadam 65 "
   ]
  },
  {
   "cell_type": "code",
   "execution_count": 1,
   "metadata": {},
   "outputs": [
    {
     "name": "stdout",
     "output_type": "stream",
     "text": [
      "Full Stack Developer\n"
     ]
    }
   ],
   "source": [
    "class Employee:\n",
    "    def __init__ (\n",
    "            self,\n",
    "            designation : str = 'Developer',\n",
    "            frontend : bool = True,\n",
    "            backend : bool = True\n",
    "    ):\n",
    "        self.designation = designation\n",
    "        self.frontend = frontend\n",
    "        self.backend = backend\n",
    "\n",
    "    def __repr__ (self):\n",
    "        return '{}'.format (self.designation, self.frontend, self.backend)\n",
    "    \n",
    "    ### Write the your method over here.\n",
    "    def verifier (self):\n",
    "        if self.frontend and self.backend:\n",
    "            return 'Full Stack Developer'\n",
    "        elif self.frontend : \n",
    "            return 'Front End Developer'\n",
    "        elif self.backend :\n",
    "            return 'Back End Developer'\n",
    "        else :\n",
    "            return 'NULL'\n",
    "\n",
    "if __name__ == '__main__':\n",
    "    firstEmployee = Employee ()\n",
    "    print (firstEmployee.verifier());"
   ]
  },
  {
   "cell_type": "code",
   "execution_count": null,
   "metadata": {},
   "outputs": [],
   "source": []
  }
 ],
 "metadata": {
  "kernelspec": {
   "display_name": "Python 3",
   "language": "python",
   "name": "python3"
  },
  "language_info": {
   "codemirror_mode": {
    "name": "ipython",
    "version": 3
   },
   "file_extension": ".py",
   "mimetype": "text/x-python",
   "name": "python",
   "nbconvert_exporter": "python",
   "pygments_lexer": "ipython3",
   "version": "3.12.0"
  }
 },
 "nbformat": 4,
 "nbformat_minor": 2
}

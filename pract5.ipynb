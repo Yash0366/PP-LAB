{
 "cells": [
  {
   "cell_type": "markdown",
   "metadata": {},
   "source": [
    "### Practical No 5 Yash Kadam 65"
   ]
  },
  {
   "cell_type": "code",
   "execution_count": 2,
   "metadata": {},
   "outputs": [],
   "source": [
    "class StackDepth : \n",
    "    def depth(str : str) -> int: \n",
    "        max_dep, curr_dept = 0,0;\n",
    "        for char in str :\n",
    "            if char == '(' :\n",
    "                curr_dept += 1;\n",
    "                max_dep = max(curr_dept,max_dep);\n",
    "            elif char == ')' :\n",
    "                curr_dept -= 1;\n",
    "\n",
    "        return max_dep;"
   ]
  },
  {
   "cell_type": "code",
   "execution_count": 3,
   "metadata": {},
   "outputs": [
    {
     "name": "stdout",
     "output_type": "stream",
     "text": [
      "['[', \"'\", '(', \"'\", ',', ' ', \"'\", '1', \"'\", ',', ' ', \"'\", '+', \"'\", ',', ' ', \"'\", '(', \"'\", ',', ' ', \"'\", '2', \"'\", ',', ' ', \"'\", '*', \"'\", ',', ' ', \"'\", '3', \"'\", ',', ' ', \"'\", ')', \"'\", ',', ' ', \"'\", '+', \"'\", ',', ' ', \"'\", '(', \"'\", ',', ' ', \"'\", '(', \"'\", ',', ' ', \"'\", '8', \"'\", ',', ' ', \"'\", ')', \"'\", ',', ' ', \"'\", '/', \"'\", ',', ' ', \"'\", '4', \"'\", ',', ' ', \"'\", ')', \"'\", ',', ' ', \"'\", ')', \"'\", ',', ' ', \"'\", '+', \"'\", ',', ' ', \"'\", '1', \"'\", ']']\n",
      "The depth of the '()' is : \n",
      "3\n"
     ]
    }
   ],
   "source": [
    "stack = list(input(\"\\n Enter the elements in stack : \"));\n",
    "print(stack);\n",
    "s1 = StackDepth;\n",
    "print(\"The depth of the '()' is : \");\n",
    "print(s1.depth(stack));"
   ]
  }
 ],
 "metadata": {
  "kernelspec": {
   "display_name": "Python 3",
   "language": "python",
   "name": "python3"
  },
  "language_info": {
   "codemirror_mode": {
    "name": "ipython",
    "version": 3
   },
   "file_extension": ".py",
   "mimetype": "text/x-python",
   "name": "python",
   "nbconvert_exporter": "python",
   "pygments_lexer": "ipython3",
   "version": "3.12.0"
  }
 },
 "nbformat": 4,
 "nbformat_minor": 2
}
